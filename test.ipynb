{
 "cells": [
  {
   "cell_type": "markdown",
   "id": "9aa809e1",
   "metadata": {},
   "source": [
    "# test AES encription"
   ]
  },
  {
   "cell_type": "code",
   "execution_count": null,
   "id": "38eb8e87",
   "metadata": {},
   "outputs": [],
   "source": [
    "from Crypto.Cipher import AES\n",
    "from Crypto.Util.Padding import pad\n",
    "from Crypto.Random import get_random_bytes\n",
    "\n",
    "import numpy as np\n",
    "\n",
    "def get_text_data():\n",
    "    path = \"./data/peter_pan.txt\"\n",
    "    example_key = get_random_bytes(32)\n",
    "    cipher = AES.new(example_key, AES.MODE_EAX)\n",
    "\n",
    "    original = []\n",
    "    encrypted = []\n",
    "    with open(path, 'rb') as f_in:\n",
    "        while True:\n",
    "            chunk = f_in.read(1456)\n",
    "            if not chunk:\n",
    "                break\n",
    "            if len(chunk) % 16 != 0:\n",
    "                chunk = pad(chunk, AES.block_size)\n",
    "            encrypted_chunk = cipher.encrypt(chunk)\n",
    "\n",
    "            # 2*data_sample/255 - 1 to map uint8s to [-1. 1] range\n",
    "            original.append(2*np.frombuffer(chunk, dtype=np.uint8)/255 - 1)\n",
    "            encrypted.append(2*np.frombuffer(encrypted_chunk, dtype=np.uint8)/255 - 1)\n",
    "    \n",
    "    original = np.array(original[:-1])\n",
    "    encrypted = np.array(encrypted[:-1])\n",
    "\n",
    "    return original, encrypted\n",
    "\n",
    "def get_voip_data():\n",
    "    path = \"./data/sample3.opus\"\n",
    "    example_key = get_random_bytes(32)\n",
    "    cipher = AES.new(example_key, AES.MODE_EAX)\n",
    "\n",
    "    original = []\n",
    "    encrypted = []\n",
    "    with open(path, 'rb') as f_in:\n",
    "        while True:\n",
    "            chunk = f_in.read(1456)\n",
    "            if not chunk:\n",
    "                break\n",
    "            if len(chunk) % 16 != 0:\n",
    "                chunk = pad(chunk, AES.block_size)\n",
    "            encrypted_chunk = cipher.encrypt(chunk)\n",
    "\n",
    "            # 2*data_sample/255 - 1 to map uint8s to [-1. 1] range\n",
    "            original.append(2*np.frombuffer(chunk, dtype=np.uint8)/255 - 1)\n",
    "            encrypted.append(2*np.frombuffer(encrypted_chunk, dtype=np.uint8)/255 - 1)\n",
    "    \n",
    "    original = np.array(original[:-1])\n",
    "    encrypted = np.array(encrypted[:-1])\n",
    "\n",
    "    return original, encrypted"
   ]
  },
  {
   "cell_type": "code",
   "execution_count": 2,
   "id": "08edd980",
   "metadata": {},
   "outputs": [
    {
     "name": "stdout",
     "output_type": "stream",
     "text": [
      "Original data shape: (179, 1456)\n",
      "Encrypted data shape: (179, 1456)\n"
     ]
    }
   ],
   "source": [
    "original, encrypted = get_text_data()\n",
    "print(\"Original data shape:\", original.shape)\n",
    "print(\"Encrypted data shape:\", encrypted.shape)\n"
   ]
  },
  {
   "cell_type": "markdown",
   "id": "61a88293",
   "metadata": {},
   "source": [
    "# test ML models"
   ]
  },
  {
   "cell_type": "code",
   "execution_count": 3,
   "id": "01fd8203",
   "metadata": {},
   "outputs": [],
   "source": [
    "import torch\n",
    "\n",
    "if torch.backends.mps.is_available():\n",
    "    device = torch.device(\"mps\")\n",
    "elif torch.cuda.is_available():\n",
    "    device = torch.device(\"cuda\")\n",
    "else:\n",
    "    device = torch.device(\"cpu\")\n",
    "    \n",
    "original, encrypted = get_text_data()\n",
    "\n",
    "data_size = original.shape[0]\n",
    "test_size = 20\n",
    "train_size = data_size - test_size\n",
    "\n",
    "\n",
    "test_original = original[-test_size:]\n",
    "test_encrypted = encrypted[-test_size:]\n",
    "test_data = torch.tensor(np.concatenate((test_original, test_encrypted), axis=0), dtype=torch.float32).to(device)\n",
    "test_labels = torch.tensor(np.array([0] * 20 + [1] * 20), dtype=torch.int64).to(device)"
   ]
  },
  {
   "cell_type": "code",
   "execution_count": 4,
   "id": "24675f9f",
   "metadata": {},
   "outputs": [],
   "source": [
    "import torch\n",
    "import torch.nn as nn\n",
    "import torch.nn.functional as F\n",
    "\n",
    "class MLP(nn.Module):\n",
    "    def __init__(self, input_size=1456, num_classes=2):\n",
    "        super(MLP, self).__init__()\n",
    "\n",
    "        self.mlp = nn.Sequential(\n",
    "            nn.Linear(input_size, 256),\n",
    "            nn.BatchNorm1d(256),\n",
    "            nn.Dropout(),\n",
    "            nn.ReLU(),\n",
    "            nn.Linear(256, 64),\n",
    "            nn.BatchNorm1d(64),\n",
    "            nn.ReLU(),\n",
    "            nn.Linear(64, num_classes)\n",
    "        )\n",
    "        \n",
    "    def forward(self, x):\n",
    "        logits = self.mlp(x)\n",
    "        return logits\n"
   ]
  },
  {
   "cell_type": "code",
   "execution_count": 18,
   "id": "205eaa6a",
   "metadata": {},
   "outputs": [
    {
     "name": "stderr",
     "output_type": "stream",
     "text": [
      " 20%|██        | 4/20 [00:00<00:01, 15.91it/s]"
     ]
    },
    {
     "name": "stdout",
     "output_type": "stream",
     "text": [
      "Epoch [1/20], Loss: 0.2300, Test Accuracy: 0.5000\n",
      "Epoch [2/20], Loss: 0.0751, Test Accuracy: 0.5000\n",
      "Epoch [3/20], Loss: 0.0502, Test Accuracy: 0.9000\n",
      "Epoch [4/20], Loss: 0.0332, Test Accuracy: 1.0000\n"
     ]
    },
    {
     "name": "stderr",
     "output_type": "stream",
     "text": [
      " 40%|████      | 8/20 [00:00<00:00, 17.55it/s]"
     ]
    },
    {
     "name": "stdout",
     "output_type": "stream",
     "text": [
      "Epoch [5/20], Loss: 0.0226, Test Accuracy: 1.0000\n",
      "Epoch [6/20], Loss: 0.0164, Test Accuracy: 1.0000\n",
      "Epoch [7/20], Loss: 0.0144, Test Accuracy: 1.0000\n",
      "Epoch [8/20], Loss: 0.0104, Test Accuracy: 1.0000\n"
     ]
    },
    {
     "name": "stderr",
     "output_type": "stream",
     "text": [
      " 60%|██████    | 12/20 [00:00<00:00, 18.24it/s]"
     ]
    },
    {
     "name": "stdout",
     "output_type": "stream",
     "text": [
      "Epoch [9/20], Loss: 0.0090, Test Accuracy: 1.0000\n",
      "Epoch [10/20], Loss: 0.0087, Test Accuracy: 1.0000\n",
      "Epoch [11/20], Loss: 0.0061, Test Accuracy: 1.0000\n",
      "Epoch [12/20], Loss: 0.0088, Test Accuracy: 1.0000\n"
     ]
    },
    {
     "name": "stderr",
     "output_type": "stream",
     "text": [
      " 80%|████████  | 16/20 [00:00<00:00, 18.60it/s]"
     ]
    },
    {
     "name": "stdout",
     "output_type": "stream",
     "text": [
      "Epoch [13/20], Loss: 0.0044, Test Accuracy: 1.0000\n",
      "Epoch [14/20], Loss: 0.0042, Test Accuracy: 1.0000\n",
      "Epoch [15/20], Loss: 0.0030, Test Accuracy: 1.0000\n",
      "Epoch [16/20], Loss: 0.0039, Test Accuracy: 1.0000\n"
     ]
    },
    {
     "name": "stderr",
     "output_type": "stream",
     "text": [
      "100%|██████████| 20/20 [00:01<00:00, 17.43it/s]\n"
     ]
    },
    {
     "name": "stdout",
     "output_type": "stream",
     "text": [
      "Epoch [17/20], Loss: 0.0033, Test Accuracy: 1.0000\n",
      "Epoch [18/20], Loss: 0.0038, Test Accuracy: 1.0000\n",
      "Epoch [19/20], Loss: 0.0031, Test Accuracy: 1.0000\n",
      "Epoch [20/20], Loss: 0.0020, Test Accuracy: 1.0000\n"
     ]
    },
    {
     "data": {
      "image/png": "[encoded data removed]",
      "text/plain": [
       "<Figure size 1000x400 with 2 Axes>"
      ]
     },
     "metadata": {},
     "output_type": "display_data"
    }
   ],
   "source": [
    "import numpy as np\n",
    "import torch\n",
    "import torch.nn as nn\n",
    "from torch.utils.data import TensorDataset, DataLoader\n",
    "import matplotlib.pyplot as plt\n",
    "from sklearn.metrics import accuracy_score\n",
    "from tqdm import tqdm\n",
    "\n",
    "num_epochs = 20\n",
    "batch_size = 32\n",
    "test_size = 20\n",
    "\n",
    "\n",
    "# model, criterion, optimizer\n",
    "model = MLP().to(device)\n",
    "criterion = nn.CrossEntropyLoss()\n",
    "optimizer = torch.optim.Adam(model.parameters(), lr=0.001)\n",
    "\n",
    "train_losses = []\n",
    "test_accuracies = []\n",
    "# training loop\n",
    "for epoch in tqdm(range(num_epochs)):\n",
    "    original, encrypted = get_text_data()\n",
    "    data_size = original.shape[0]\n",
    "    \n",
    "    # split into train/test\n",
    "    train_original = original[:-test_size]\n",
    "    train_encrypted = encrypted[:-test_size]\n",
    "\n",
    "    train_data = torch.tensor(\n",
    "        np.concatenate((train_original, train_encrypted), axis=0), \n",
    "        dtype=torch.float32\n",
    "    ).to(device)\n",
    "    train_labels = torch.tensor(\n",
    "        np.array([0] * train_original.shape[0] + [1] * train_encrypted.shape[0]), \n",
    "        dtype=torch.int64\n",
    "    ).to(device)\n",
    "\n",
    "    train_dataloader = DataLoader(\n",
    "        TensorDataset(train_data, train_labels),\n",
    "        batch_size=batch_size,\n",
    "        num_workers=0,\n",
    "        shuffle=True,\n",
    "    )\n",
    "    \n",
    "    model.train()\n",
    "    epoch_loss = 0.0\n",
    "    batch_count = 0\n",
    "    \n",
    "    # Training phase\n",
    "    # for data, labels in tqdm(train_dataloader, leave=False):\n",
    "    for data, labels in train_dataloader:\n",
    "        data, labels = data.to(device), labels.to(device)\n",
    "        # Forward pass\n",
    "        outputs = model(data)\n",
    "        loss = criterion(outputs, labels)\n",
    "        \n",
    "        # Backward pass and optimize\n",
    "        optimizer.zero_grad()\n",
    "        loss.backward()\n",
    "        optimizer.step()\n",
    "        \n",
    "        epoch_loss += loss.item()\n",
    "        batch_count += 1\n",
    "    \n",
    "    # Calculate average loss for the epoch\n",
    "    avg_loss = epoch_loss / batch_count\n",
    "    train_losses.append(avg_loss)\n",
    "    \n",
    "    # Evaluation phase\n",
    "    model.eval()\n",
    "    with torch.no_grad():\n",
    "        test_outputs = model(test_data)\n",
    "        _, predicted = torch.max(test_outputs.data, 1)\n",
    "        accuracy = (predicted == test_labels).sum().item() / test_labels.size(0)\n",
    "        test_accuracies.append(accuracy)\n",
    "    \n",
    "    tqdm.write(f'Epoch [{epoch+1}/{num_epochs}], Loss: {avg_loss:.4f}, Test Accuracy: {accuracy:.4f}')\n",
    "\n",
    "# Plot training progress\n",
    "plt.figure(figsize=(10, 4))\n",
    "\n",
    "plt.subplot(1, 2, 1)\n",
    "plt.plot(range(1, num_epochs+1), train_losses)\n",
    "plt.title('Training Loss')\n",
    "plt.xlabel('Epoch')\n",
    "plt.ylabel('Loss')\n",
    "\n",
    "plt.subplot(1, 2, 2)\n",
    "plt.plot(range(1, num_epochs+1), test_accuracies)\n",
    "plt.title('Test Accuracy')\n",
    "plt.xlabel('Epoch')\n",
    "plt.ylabel('Accuracy')\n",
    "\n",
    "plt.tight_layout()\n",
    "plt.show()\n"
   ]
  }
 ],
 "metadata": {
  "kernelspec": {
   "display_name": "crypto",
   "language": "python",
   "name": "python3"
  },
  "language_info": {
   "codemirror_mode": {
    "name": "ipython",
    "version": 3
   },
   "file_extension": ".py",
   "mimetype": "text/x-python",
   "name": "python",
   "nbconvert_exporter": "python",
   "pygments_lexer": "ipython3",
   "version": "3.12.9"
  }
 },
 "nbformat": 4,
 "nbformat_minor": 5
}
